{
  "cells": [
    {
      "cell_type": "code",
      "execution_count": 10,
      "metadata": {
        "id": "-2OtYuvedMfk"
      },
      "outputs": [],
      "source": [
        "import numpy as np\n",
        "from sklearn.model_selection import KFold\n",
        "import matplotlib.pyplot as plt\n"
      ]
    },
    {
      "cell_type": "markdown",
      "metadata": {
        "id": "eZh1s_tHMuPE"
      },
      "source": [
        "# OPEN DATA FILE"
      ]
    },
    {
      "cell_type": "code",
      "execution_count": 2,
      "metadata": {
        "colab": {
          "base_uri": "https://localhost:8080/"
        },
        "id": "jpcepwTgMo2d",
        "outputId": "35f4ce0d-9b87-4db2-d738-27bddd138c19"
      },
      "outputs": [
        {
          "output_type": "stream",
          "name": "stdout",
          "text": [
            "Mounted at /content/drive\n"
          ]
        }
      ],
      "source": [
        "from google.colab import drive\n",
        "drive.mount('/content/drive')"
      ]
    },
    {
      "cell_type": "markdown",
      "metadata": {
        "id": "OGy8ON9siMLh"
      },
      "source": [
        "# READ CSV DATA FILE"
      ]
    },
    {
      "cell_type": "code",
      "execution_count": 3,
      "metadata": {
        "id": "AIpk0Xf_PZNy"
      },
      "outputs": [],
      "source": [
        "import pandas as pd\n",
        "#BY USING PANDAS LIBRARY TO READ THE NON-HEADER DATAFILE\n",
        "#NON-HEADER MEANS \"FEATURES HAVE NO TITLES\"\n",
        "def read_data(path):\n",
        "  data = pd.read_csv(path , header = None)\n",
        "  return data"
      ]
    },
    {
      "cell_type": "code",
      "execution_count": 4,
      "metadata": {
        "colab": {
          "base_uri": "https://localhost:8080/"
        },
        "id": "BZZ5dDH5QqE6",
        "outputId": "470fe94e-8a1d-477c-958f-7c42bf58a68a"
      },
      "outputs": [
        {
          "output_type": "execute_result",
          "data": {
            "text/plain": [
              "(19020, 11)"
            ]
          },
          "metadata": {},
          "execution_count": 4
        }
      ],
      "source": [
        "data = read_data('/content/drive/MyDrive/MAGIC04/magic04.csv')\n",
        "\n",
        "#CONVERT DATA FRAME TO NUMPY ARRAY\n",
        "data = data.to_numpy()\n",
        "data.shape"
      ]
    },
    {
      "cell_type": "markdown",
      "metadata": {
        "id": "xE3URqEDdjZY"
      },
      "source": [
        "# 1) Data Balancing\n"
      ]
    },
    {
      "cell_type": "code",
      "execution_count": 5,
      "metadata": {
        "id": "L88mvqahdivE"
      },
      "outputs": [],
      "source": [
        "#ONLY TAKE DATA FOR 'G' CLASS TO BE EQAUL\n",
        "#TO 'H' CLASS\n",
        "#BY TAKING DATA FROM [:6688] FOR 'G' CLASS\n",
        "#[1233:] FOR 'H' CLASS\n",
        "def balance_data():\n",
        "  _g_class_data = data[0:6688]\n",
        "  _h_class_data = data[12333:]\n",
        "  balanced_data = np.concatenate((_g_class_data , _h_class_data) , axis = 0)\n",
        "  return balanced_data"
      ]
    },
    {
      "cell_type": "code",
      "execution_count": 6,
      "metadata": {
        "colab": {
          "base_uri": "https://localhost:8080/"
        },
        "id": "alLdA5n4fJf9",
        "outputId": "2574782c-89ad-429c-8517-79278fb33389"
      },
      "outputs": [
        {
          "output_type": "execute_result",
          "data": {
            "text/plain": [
              "(13375, 11)"
            ]
          },
          "metadata": {},
          "execution_count": 6
        }
      ],
      "source": [
        "b_data = balance_data()\n",
        "np.random.shuffle(b_data)\n",
        "b_data.shape"
      ]
    },
    {
      "cell_type": "markdown",
      "metadata": {
        "id": "8GDqDY5WgcZq"
      },
      "source": [
        "# 2)Data Split \n"
      ]
    },
    {
      "cell_type": "code",
      "execution_count": 7,
      "metadata": {
        "colab": {
          "base_uri": "https://localhost:8080/"
        },
        "id": "igGVf1UIgfR0",
        "outputId": "103f659b-640e-421b-8051-701ce0ec2906"
      },
      "outputs": [
        {
          "output_type": "stream",
          "name": "stdout",
          "text": [
            "(4013, 11)\n",
            "(9361, 11)\n"
          ]
        }
      ],
      "source": [
        "#SPLITING DATA INTO 30% TESTING SET\n",
        "#70% TRAINIG SET\n",
        "testing_set = b_data[0:4013]\n",
        "training_set = b_data[4014:]\n",
        "\n",
        "print(testing_set.shape)\n",
        "print(training_set.shape)"
      ]
    },
    {
      "cell_type": "code",
      "execution_count": 8,
      "metadata": {
        "id": "Qrqar_HYl5WG"
      },
      "outputs": [],
      "source": [
        "#SPLIT TRUE LABELS FOR BOTH \n",
        "#TRAINIG SET ANS TESTING SET\n",
        "testing_data_set = testing_set[:,0:-1]\n",
        "testing_labels = testing_set[:,-1]\n",
        "\n",
        "training_data_set = training_set[:,0:-1]\n",
        "training_labels = training_set[:,-1]\n"
      ]
    },
    {
      "cell_type": "markdown",
      "metadata": {
        "id": "8k-TRRg5ll9G"
      },
      "source": [
        "# 3) a- Classification (KNN)"
      ]
    },
    {
      "cell_type": "code",
      "execution_count": 88,
      "metadata": {
        "id": "8SHmD-MIlikQ"
      },
      "outputs": [],
      "source": [
        "#APPLY KNN ALGORITHMS ON TRAINIG SET \n",
        "#FOR DIFF. K-VALUES TO GET HYPER PARAMETER TUNNING\n",
        "#AND CHOOSE THE ONE GET THE BEST SCORE\n",
        "from sklearn import metrics\n",
        "from sklearn.neighbors import KNeighborsClassifier\n",
        "\n",
        "def KNN(training_data , training_labels):\n",
        "  dic = {}\n",
        "  folds = KFold(n_splits=3 , shuffle=False , random_state=None)\n",
        "  \n",
        "  for k in range(1,45,2):\n",
        "      score = 0\n",
        "      for train_index , test_index in folds.split(training_data):\n",
        "        _data_train , _data_validation = training_data[train_index] , training_data[test_index]\n",
        "        _label_train , _label_validation = training_labels[train_index] , training_labels[test_index]\n",
        "      \n",
        "        knn = KNeighborsClassifier(n_neighbors= k ).fit(_data_train , _label_train)\n",
        "        prediction = knn.predict(_data_validation)\n",
        "        score = score + metrics.accuracy_score(_label_validation , prediction)\n",
        "      dic[score / 3] = k\n",
        "  \n",
        "  list = dic.items()\n",
        "  scores , k_values = zip(*list)\n",
        "  \n",
        "  loc = np.arange(1,45,step=2.0)\n",
        "  \n",
        "  plt.title(\"KNN\")\n",
        "  plt.plot(range(1,45,2) , scores)\n",
        "  plt.xticks(loc)\n",
        "  \n",
        "  plt.xlabel(\"K-values\")\n",
        "  plt.ylabel(\"Accuracy\")\n",
        "  plt.show()\n",
        "\n",
        "  max_score = max(scores)\n",
        "  return dic.get(max_score)\n",
        "  #TODO: return the parameter value"
      ]
    },
    {
      "cell_type": "code",
      "source": [
        "k = KNN(training_data_set , training_labels)\n",
        "model_eva(k , \"KNN\")"
      ],
      "metadata": {
        "colab": {
          "base_uri": "https://localhost:8080/",
          "height": 382
        },
        "id": "_1rBExBYpr2H",
        "outputId": "20b96e76-3d7f-42b9-a63d-b63e369423a9"
      },
      "execution_count": 89,
      "outputs": [
        {
          "output_type": "display_data",
          "data": {
            "text/plain": [
              "<Figure size 432x288 with 1 Axes>"
            ],
            "image/png": "[encoded data removed]"
          },
          "metadata": {
            "needs_background": "light"
          }
        },
        {
          "output_type": "stream",
          "name": "stdout",
          "text": [
            "Trainig_accuracy =  0.7804721717765196\n",
            "Testing_accuracy =  0.7722402192873162\n",
            "Confusion_Matrix:  [[1746  265]\n",
            " [ 649 1353]]\n",
            "Model_accuracy =  77.00145462055123 %\n"
          ]
        }
      ]
    },
    {
      "cell_type": "markdown",
      "source": [
        "# 4) MODEL EVALUATION"
      ],
      "metadata": {
        "id": "1tRE9a2J0-pa"
      }
    },
    {
      "cell_type": "code",
      "source": [
        "from sklearn.metrics import confusion_matrix\n",
        "from sklearn.model_selection import cross_val_score\n",
        "\n",
        "def model_eva(hyper_parameter , classifer):\n",
        "  \n",
        "  if classifer == \"KNN\":\n",
        "    knn = KNeighborsClassifier(n_neighbors= hyper_parameter).fit(training_data_set , training_labels)\n",
        "    test_prediction = knn.predict(testing_data_set)\n",
        "    train_prediction = knn.predict(training_data_set)\n",
        "  \n",
        "    trainig_acc = metrics.accuracy_score(training_labels , train_prediction)\n",
        "    testing_acc = metrics.accuracy_score(testing_labels , test_prediction)\n",
        "    scores = cross_val_score(knn, b_data[:,0:-1], b_data[:,-1], cv =hyper_parameter)\n",
        "  \n",
        "    print(\"Trainig_accuracy = \" , trainig_acc)\n",
        "    print(\"Testing_accuracy = \" , testing_acc)\n",
        "    print(\"Confusion_Matrix: \" , confusion_matrix(testing_labels , test_prediction))\n",
        "    print(\"Model_accuracy = \" , np.mean(scores)*100 , \"%\")"
      ],
      "metadata": {
        "id": "v2jZ-Ikn0-J9"
      },
      "execution_count": 61,
      "outputs": []
    }
  ],
  "metadata": {
    "colab": {
      "collapsed_sections": [],
      "name": "Data_Classification_AI.ipynb",
      "provenance": [],
      "toc_visible": true
    },
    "kernelspec": {
      "display_name": "Python 3",
      "name": "python3"
    },
    "language_info": {
      "name": "python",
      "version": "3.9.7"
    }
  },
  "nbformat": 4,
  "nbformat_minor": 0
}