{
  "cells": [
    {
      "cell_type": "code",
      "execution_count": 1,
      "metadata": {
        "id": "-2OtYuvedMfk"
      },
      "outputs": [],
      "source": [
        "import numpy as np\n",
        "from sklearn.model_selection import KFold\n",
        "import matplotlib.pyplot as plt\n"
      ]
    },
    {
      "cell_type": "markdown",
      "metadata": {
        "id": "eZh1s_tHMuPE"
      },
      "source": [
        "# OPEN DATA FILE"
      ]
    },
    {
      "cell_type": "code",
      "execution_count": 2,
      "metadata": {
        "colab": {
          "base_uri": "https://localhost:8080/"
        },
        "id": "jpcepwTgMo2d",
        "outputId": "d232f30c-7f23-48ef-a643-7a9aed763475"
      },
      "outputs": [
        {
          "output_type": "stream",
          "name": "stdout",
          "text": [
            "Mounted at /content/drive\n"
          ]
        }
      ],
      "source": [
        "from google.colab import drive\n",
        "drive.mount('/content/drive')"
      ]
    },
    {
      "cell_type": "markdown",
      "metadata": {
        "id": "OGy8ON9siMLh"
      },
      "source": [
        "# READ CSV DATA FILE"
      ]
    },
    {
      "cell_type": "code",
      "execution_count": 3,
      "metadata": {
        "id": "AIpk0Xf_PZNy"
      },
      "outputs": [],
      "source": [
        "import pandas as pd\n",
        "#BY USING PANDAS LIBRARY TO READ THE NON-HEADER DATAFILE\n",
        "#NON-HEADER MEANS \"FEATURES HAVE NO TITLES\"\n",
        "def read_data(path):\n",
        "  data = pd.read_csv(path , header = None)\n",
        "  return data"
      ]
    },
    {
      "cell_type": "code",
      "execution_count": 66,
      "metadata": {
        "colab": {
          "base_uri": "https://localhost:8080/"
        },
        "id": "BZZ5dDH5QqE6",
        "outputId": "6a055774-d52b-46a9-dd07-0ad81129121e"
      },
      "outputs": [
        {
          "output_type": "execute_result",
          "data": {
            "text/plain": [
              "(19020, 11)"
            ]
          },
          "metadata": {},
          "execution_count": 66
        }
      ],
      "source": [
        "data = read_data('/content/drive/MyDrive/MAGIC04/magic04.csv')\n",
        "#CONVERT DATA FRAME TO NUMPY ARRAY\n",
        "data = data.to_numpy()\n",
        "data.shape\n"
      ]
    },
    {
      "cell_type": "markdown",
      "metadata": {
        "id": "xE3URqEDdjZY"
      },
      "source": [
        "# 1) Data Balancing\n"
      ]
    },
    {
      "cell_type": "code",
      "execution_count": 7,
      "metadata": {
        "id": "L88mvqahdivE"
      },
      "outputs": [],
      "source": [
        "#ONLY TAKE DATA FOR 'G' CLASS TO BE EQAUL\n",
        "#TO 'H' CLASS\n",
        "#BY TAKING DATA FROM [:6688] FOR 'G' CLASS\n",
        "#[1233:] FOR 'H' CLASS\n",
        "def balance_data():\n",
        "  _g_class_data = data[0:6688]\n",
        "  _h_class_data = data[12333:]\n",
        "  balanced_data = np.concatenate((_g_class_data , _h_class_data) , axis = 0)\n",
        "  return balanced_data"
      ]
    },
    {
      "cell_type": "code",
      "execution_count": 8,
      "metadata": {
        "colab": {
          "base_uri": "https://localhost:8080/"
        },
        "id": "alLdA5n4fJf9",
        "outputId": "514a0411-525e-4f5c-b885-4c1ffeb45435"
      },
      "outputs": [
        {
          "output_type": "execute_result",
          "data": {
            "text/plain": [
              "(13375, 11)"
            ]
          },
          "metadata": {},
          "execution_count": 8
        }
      ],
      "source": [
        "b_data = balance_data()\n",
        "np.random.shuffle(b_data)\n",
        "b_data.shape"
      ]
    },
    {
      "cell_type": "markdown",
      "metadata": {
        "id": "8GDqDY5WgcZq"
      },
      "source": [
        "# 2)Data Split \n"
      ]
    },
    {
      "cell_type": "code",
      "execution_count": 9,
      "metadata": {
        "colab": {
          "base_uri": "https://localhost:8080/"
        },
        "id": "igGVf1UIgfR0",
        "outputId": "c665d1ee-09f3-47d2-97b8-d270efad8457"
      },
      "outputs": [
        {
          "output_type": "stream",
          "name": "stdout",
          "text": [
            "(4013, 11)\n",
            "(9361, 11)\n"
          ]
        }
      ],
      "source": [
        "#SPLITING DATA INTO 30% TESTING SET\n",
        "#70% TRAINIG SET\n",
        "testing_set = b_data[0:4013]\n",
        "training_set = b_data[4014:]\n",
        "\n",
        "print(testing_set.shape)\n",
        "print(training_set.shape)"
      ]
    },
    {
      "cell_type": "code",
      "execution_count": 10,
      "metadata": {
        "id": "Qrqar_HYl5WG"
      },
      "outputs": [],
      "source": [
        "#SPLIT TRUE LABELS FOR BOTH \n",
        "#TRAINIG SET ANS TESTING SET\n",
        "testing_data_set = testing_set[:,0:-1]\n",
        "testing_labels = testing_set[:,-1]\n",
        "\n",
        "training_data_set = training_set[:,0:-1]\n",
        "training_labels = training_set[:,-1]\n"
      ]
    },
    {
      "cell_type": "markdown",
      "metadata": {
        "id": "8k-TRRg5ll9G"
      },
      "source": [
        "#3) a- KNN CLASSIFER \"PARAMETER TUNNING\"\n",
        "      \n",
        "      *    Using KFOLDS cross validation     \n",
        "\n",
        "\n",
        "  \n",
        "\n"
      ]
    },
    {
      "cell_type": "code",
      "execution_count": 17,
      "metadata": {
        "id": "8SHmD-MIlikQ"
      },
      "outputs": [],
      "source": [
        "#APPLY KNN ALGORITHMS ON TRAINIG SET \n",
        "#FOR DIFF. K-VALUES TO GET HYPER PARAMETER TUNNING\n",
        "#AND CHOOSE THE ONE GET THE BEST SCORE\n",
        "from sklearn import metrics\n",
        "from sklearn.neighbors import KNeighborsClassifier\n",
        "\n",
        "def KNN(training_data , training_labels):\n",
        "  dic = {}\n",
        "  folds = KFold(n_splits=5 , shuffle=False , random_state=None)\n",
        "  \n",
        "  for k in range(1,45,2):\n",
        "      score = 0\n",
        "      for train_index , test_index in folds.split(training_data):\n",
        "        _data_train , _data_validation = training_data[train_index] , training_data[test_index]\n",
        "        _label_train , _label_validation = training_labels[train_index] , training_labels[test_index]\n",
        "      \n",
        "        knn = KNeighborsClassifier(n_neighbors= k ).fit(_data_train , _label_train)\n",
        "        prediction = knn.predict(_data_validation)\n",
        "        score = score + metrics.accuracy_score(_label_validation , prediction)\n",
        "      dic[score / 5] = k\n",
        "  \n",
        "  list = dic.items()\n",
        "  scores , k_values = zip(*list)\n",
        "  \n",
        "  loc = np.arange(1,45,step=2.0)\n",
        "  \n",
        "  plt.title(\"KNN\")\n",
        "  plt.plot(range(1,45,2) , scores)\n",
        "  plt.xticks(loc)\n",
        "  \n",
        "  plt.xlabel(\"K-values\")\n",
        "  plt.ylabel(\"Accuracy\")\n",
        "  plt.show()\n",
        "\n",
        "  max_score = max(scores)\n",
        "  return dic.get(max_score)\n"
      ]
    },
    {
      "cell_type": "markdown",
      "source": [
        "Report of the parameter tunned using kfolds cv"
      ],
      "metadata": {
        "id": "RVpB1RfKXU2i"
      }
    },
    {
      "cell_type": "code",
      "source": [
        "k = KNN(training_data_set , training_labels)\n",
        "model_eva(k , \"KNN\")"
      ],
      "metadata": {
        "colab": {
          "base_uri": "https://localhost:8080/",
          "height": 626
        },
        "id": "_1rBExBYpr2H",
        "outputId": "4d29fb01-db35-45a6-94c3-c7f7ca733991"
      },
      "execution_count": 58,
      "outputs": [
        {
          "output_type": "display_data",
          "data": {
            "text/plain": [
              "<Figure size 432x288 with 1 Axes>"
            ],
            "image/png": "[encoded data removed]"
          },
          "metadata": {
            "needs_background": "light"
          }
        },
        {
          "output_type": "stream",
          "name": "stdout",
          "text": [
            "Accuracy =  77.59780712683778 %\n",
            "Precision =  73.87463188893564 %\n",
            "Recall =  86.3323500491642 %\n",
            "F1-Score =  79.61913398322376 %\n"
          ]
        },
        {
          "output_type": "display_data",
          "data": {
            "text/plain": [
              "<Figure size 432x288 with 2 Axes>"
            ],
            "image/png": "[encoded data removed]"
          },
          "metadata": {
            "needs_background": "light"
          }
        }
      ]
    },
    {
      "cell_type": "markdown",
      "source": [
        "# 3) b- DECISSION TREE CLASSIFER\n",
        "\n",
        "      It's has no parameter to be tuned \n",
        "\n"
      ],
      "metadata": {
        "id": "OWayi3PjXj6I"
      }
    },
    {
      "cell_type": "code",
      "source": [
        "model_eva(None , \"d_tree\")"
      ],
      "metadata": {
        "colab": {
          "base_uri": "https://localhost:8080/",
          "height": 348
        },
        "id": "xaSWOX1VxSHZ",
        "outputId": "525075ab-d082-4f60-fa96-aef1ad502b6e"
      },
      "execution_count": 57,
      "outputs": [
        {
          "output_type": "stream",
          "name": "stdout",
          "text": [
            "Accuracy =  78.8686768003987 %\n",
            "Precision =  79.65 %\n",
            "Recall =  78.31858407079646 %\n",
            "F1-Score =  78.97868120971741 %\n"
          ]
        },
        {
          "output_type": "display_data",
          "data": {
            "text/plain": [
              "<Figure size 432x288 with 2 Axes>"
            ],
            "image/png": "[encoded data removed]"
          },
          "metadata": {
            "needs_background": "light"
          }
        }
      ]
    },
    {
      "cell_type": "markdown",
      "source": [
        "#3) c- ADABOOST CLASSIFER \"PARAMETER TUNNING\"\n",
        "      \n",
        "      *    Using KFOLDS cross validation     \n",
        "\n",
        "\n",
        "  \n",
        "\n"
      ],
      "metadata": {
        "id": "WfRGfo3pywG1"
      }
    },
    {
      "cell_type": "code",
      "source": [
        "#APPLY ADABOOST CALSSIFER ON TRAINIG DATA\n",
        "#USING K-FOLDS AS A CROSS VALIDATION TO GET HYPERPARAMETR\n",
        "#CHOOSE THE BEST N-ESTIMATOR THAT GIVES HIGH ACC. \n",
        "from sklearn.ensemble import AdaBoostClassifier\n",
        "\n",
        "def adaboost(trainig_data , trainig_label):\n",
        "  dic = {}\n",
        "  folds = KFold(n_splits= 5 ,shuffle= False , random_state= None)\n",
        "  \n",
        "  for n in range(10,300,10):\n",
        "    score = 0\n",
        "\n",
        "    for train_index , validation_index in folds.split(trainig_data):\n",
        "      _data_train , _data_validation = trainig_data[train_index] , trainig_data[validation_index]\n",
        "      _train_labels , _validation_labels = trainig_label[train_index] , trainig_label[validation_index]\n",
        "\n",
        "      ada_boost = AdaBoostClassifier(n_estimators= n).fit(_data_train , _train_labels)\n",
        "      prediction = ada_boost.predict(_data_validation)\n",
        "      score = score + metrics.accuracy_score(_validation_labels , prediction)\n",
        "    dic[score / 5] = n\n",
        "\n",
        "  list = dic.items()\n",
        "  scores , n_values = zip(*list)\n",
        "  loc = np.arange(10,300,step=10.0)\n",
        "  \n",
        "  plt.title(\"ADABOOST\")\n",
        "  plt.plot(range(10,300,10) , scores)\n",
        "  plt.xticks(loc)\n",
        "  \n",
        "  plt.xlabel(\"N-values\")\n",
        "  plt.ylabel(\"Accuracy\")\n",
        "  plt.show()\n",
        "\n",
        "  max_score = max(scores)\n",
        "  return dic.get(max_score)"
      ],
      "metadata": {
        "id": "TXozN2adyvyt"
      },
      "execution_count": 48,
      "outputs": []
    },
    {
      "cell_type": "markdown",
      "source": [
        "Report for the parameter tuned using KFOLDS cv\n",
        "\n"
      ],
      "metadata": {
        "id": "qW0W9io7YfbI"
      }
    },
    {
      "cell_type": "code",
      "source": [
        "n = adaboost(training_data_set , training_labels)\n",
        "model_eva(n , \"adaboost\")"
      ],
      "metadata": {
        "colab": {
          "base_uri": "https://localhost:8080/",
          "height": 644
        },
        "id": "ElArh39-4JBs",
        "outputId": "b0d22db8-1406-47dc-e067-f483a5747ff9"
      },
      "execution_count": 62,
      "outputs": [
        {
          "output_type": "display_data",
          "data": {
            "text/plain": [
              "<Figure size 432x288 with 1 Axes>"
            ],
            "image/png": "[encoded data removed]"
          },
          "metadata": {
            "needs_background": "light"
          }
        },
        {
          "output_type": "stream",
          "name": "stdout",
          "text": [
            "250\n",
            "Accuracy =  83.3042611512584 %\n",
            "Precision =  83.33333333333334 %\n",
            "Recall =  83.82497541789577 %\n",
            "F1-Score =  83.578431372549 %\n"
          ]
        },
        {
          "output_type": "display_data",
          "data": {
            "text/plain": [
              "<Figure size 432x288 with 2 Axes>"
            ],
            "image/png": "[encoded data removed]"
          },
          "metadata": {
            "needs_background": "light"
          }
        }
      ]
    },
    {
      "cell_type": "markdown",
      "source": [
        "#3) d- RANDOM FOREST CLASSIFER \"PARAMETER TUNNING\"\n",
        "      \n",
        "      *    Using KFOLDS cross validation     \n",
        "\n",
        "\n",
        "  \n",
        "\n"
      ],
      "metadata": {
        "id": "YEsIXZQZSrEx"
      }
    },
    {
      "cell_type": "code",
      "source": [
        "from sklearn.ensemble import RandomForestClassifier\n",
        "\n",
        "#APPLY RANDOM FOREST CALSSIFER ON TRAINIG DATA\n",
        "#USING K-FOLDS AS A CROSS VALIDATION TO GET HYPERPARAMETR\n",
        "#CHOOSE THE BEST N-ESTIMATOR THAT GIVES HIGH ACC.\n",
        "def random_forest(trainig_data , trainig_label):\n",
        "  dic = {}\n",
        "  folds = KFold(n_splits= 5 ,shuffle= False , random_state= None)\n",
        "  \n",
        "  for n in range(10,300,10):\n",
        "    score = 0\n",
        "\n",
        "    for train_index , validation_index in folds.split(trainig_data):\n",
        "      _data_train , _data_validation = trainig_data[train_index] , trainig_data[validation_index]\n",
        "      _train_labels , _validation_labels = trainig_label[train_index] , trainig_label[validation_index]\n",
        "\n",
        "      r_f = RandomForestClassifier(n_estimators= n).fit(_data_train , _train_labels)\n",
        "      prediction = r_f.predict(_data_validation)\n",
        "      score = score + metrics.accuracy_score(_validation_labels , prediction)\n",
        "    dic[score / 5] = n\n",
        "\n",
        "  list = dic.items()\n",
        "  scores , n_values = zip(*list)\n",
        "  loc = np.arange(10,300,step=10.0)\n",
        "  \n",
        "  plt.title(\"RANDOM-FOREST\")\n",
        "  plt.plot(range(10,300,10) , scores)\n",
        "  plt.xticks(loc)\n",
        "  \n",
        "  plt.xlabel(\"N-values\")\n",
        "  plt.ylabel(\"Accuracy\")\n",
        "  plt.show()\n",
        "\n",
        "  max_score = max(scores)\n",
        "  return dic.get(max_score)"
      ],
      "metadata": {
        "id": "dG4pfIwkSqyj"
      },
      "execution_count": 51,
      "outputs": []
    },
    {
      "cell_type": "markdown",
      "source": [
        "Report for the parameter tuned using KFOLDS cv\n"
      ],
      "metadata": {
        "id": "aVBzLkc8Y8yM"
      }
    },
    {
      "cell_type": "code",
      "source": [
        "n_Rf = random_forest(training_data_set , training_labels)\n",
        "model_eva(n_Rf , \"randomforest\")"
      ],
      "metadata": {
        "colab": {
          "base_uri": "https://localhost:8080/",
          "height": 644
        },
        "id": "PU4mxDH4UAE_",
        "outputId": "e5bca862-a649-4d6e-9a6f-e5aba26ea50d"
      },
      "execution_count": 63,
      "outputs": [
        {
          "output_type": "display_data",
          "data": {
            "text/plain": [
              "<Figure size 432x288 with 1 Axes>"
            ],
            "image/png": "[encoded data removed]"
          },
          "metadata": {
            "needs_background": "light"
          }
        },
        {
          "output_type": "stream",
          "name": "stdout",
          "text": [
            "290\n",
            "Accuracy =  86.16994767007226 %\n",
            "Precision =  84.89853704577631 %\n",
            "Recall =  88.4464110127827 %\n",
            "F1-Score =  86.63616662653503 %\n"
          ]
        },
        {
          "output_type": "display_data",
          "data": {
            "text/plain": [
              "<Figure size 432x288 with 2 Axes>"
            ],
            "image/png": "[encoded data removed]"
          },
          "metadata": {
            "needs_background": "light"
          }
        }
      ]
    },
    {
      "cell_type": "markdown",
      "source": [
        "# 3) e-NAIVE BAYES CLASSIFER\n",
        "      It's has no parameter to be tuned \n",
        "\n"
      ],
      "metadata": {
        "id": "svzkThFKeM2U"
      }
    },
    {
      "cell_type": "code",
      "source": [
        "model_eva(None , \"naive_bayes\")"
      ],
      "metadata": {
        "colab": {
          "base_uri": "https://localhost:8080/",
          "height": 352
        },
        "id": "J6akFTF8eMi8",
        "outputId": "af4cd618-e5c4-4f60-961a-1f42362d550a"
      },
      "execution_count": 61,
      "outputs": [
        {
          "output_type": "stream",
          "name": "stdout",
          "text": [
            "Accuracy =  65.71143782706204 %\n",
            "Precision =  61.137440758293835 %\n",
            "Recall =  88.79056047197639 %\n",
            "F1-Score =  72.41379310344827 %\n"
          ]
        },
        {
          "output_type": "display_data",
          "data": {
            "text/plain": [
              "<Figure size 432x288 with 2 Axes>"
            ],
            "image/png": "[encoded data removed]"
          },
          "metadata": {
            "needs_background": "light"
          }
        }
      ]
    },
    {
      "cell_type": "markdown",
      "source": [
        "# 4) MODEL EVALUATION"
      ],
      "metadata": {
        "id": "1tRE9a2J0-pa"
      }
    },
    {
      "cell_type": "code",
      "source": [
        "from sklearn.metrics import confusion_matrix , ConfusionMatrixDisplay\n",
        "from sklearn.model_selection import cross_val_score\n",
        "from sklearn import tree\n",
        "from sklearn.naive_bayes import GaussianNB\n",
        "\n",
        "def model_eva(hyper_parameter , classifer):\n",
        "  test_prediction = []\n",
        "  train_prediction = []\n",
        "\n",
        "  if classifer == \"KNN\":\n",
        "    knn = KNeighborsClassifier(n_neighbors= hyper_parameter).fit(training_data_set , training_labels)\n",
        "    test_prediction = knn.predict(testing_data_set)\n",
        "    train_prediction = knn.predict(training_data_set)\n",
        " \n",
        "  \n",
        "  elif classifer == \"d_tree\":\n",
        "    d_tree = tree.DecisionTreeClassifier()\n",
        "    d_tree = d_tree.fit(training_data_set , training_labels)\n",
        "    test_prediction = d_tree.predict(testing_data_set)\n",
        "    train_prediction = d_tree.predict(training_data_set)\n",
        "\n",
        "  elif classifer == \"adaboost\":\n",
        "    ada_boost = AdaBoostClassifier(n_estimators= hyper_parameter).fit(training_data_set , training_labels)\n",
        "    test_prediction = ada_boost.predict(testing_data_set)\n",
        "    train_prediction = ada_boost.predict(training_data_set)\n",
        " \n",
        "\n",
        "  elif classifer == \"randomforest\":\n",
        "    r_f = RandomForestClassifier(n_estimators= hyper_parameter).fit(training_data_set , training_labels)\n",
        "    test_prediction = r_f.predict(testing_data_set)\n",
        "    train_prediction = r_f.predict(training_data_set)\n",
        "  \n",
        "  elif classifer == \"naive_bayes\":\n",
        "    g_nb = GaussianNB().fit(training_data_set , training_labels)\n",
        "    test_prediction = g_nb.predict(testing_data_set)\n",
        "    train_prediction = g_nb.predict(training_data_set)\n",
        "\n",
        "  \n",
        "  metrics_cal(testing_labels , test_prediction)  "
      ],
      "metadata": {
        "id": "v2jZ-Ikn0-J9"
      },
      "execution_count": 60,
      "outputs": []
    },
    {
      "cell_type": "markdown",
      "source": [
        "# 5) METRICS CALCULATION "
      ],
      "metadata": {
        "id": "10UeJaZBZK1n"
      }
    },
    {
      "cell_type": "code",
      "source": [
        "def metrics_cal(true_labels , predicted_labels):\n",
        "\n",
        "  print(\"Accuracy = \" , metrics.accuracy_score(true_labels , predicted_labels) * 100 , \"%\")\n",
        "  print(\"Precision = \" , metrics.precision_score(true_labels , predicted_labels , pos_label= 'g') * 100 , \"%\")\n",
        "  print(\"Recall = \" , metrics.recall_score(true_labels , predicted_labels , pos_label= 'g') * 100 , \"%\")\n",
        "  print(\"F1-Score = \" , metrics.f1_score(true_labels , predicted_labels , pos_label= 'g') * 100 , \"%\")\n",
        "  ConfusionMatrixDisplay(confusion_matrix(true_labels , predicted_labels), display_labels=['g','h']).plot()"
      ],
      "metadata": {
        "id": "A7nfPq8iZJHU"
      },
      "execution_count": 56,
      "outputs": []
    }
  ],
  "metadata": {
    "colab": {
      "collapsed_sections": [],
      "name": "Data_Classification_AI.ipynb",
      "provenance": [],
      "toc_visible": true
    },
    "kernelspec": {
      "display_name": "Python 3",
      "name": "python3"
    },
    "language_info": {
      "name": "python",
      "version": "3.9.7"
    }
  },
  "nbformat": 4,
  "nbformat_minor": 0
}