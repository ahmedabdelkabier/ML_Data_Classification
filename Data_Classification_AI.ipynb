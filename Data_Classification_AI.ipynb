{
  "nbformat": 4,
  "nbformat_minor": 0,
  "metadata": {
    "colab": {
      "name": "Data_Classification_AI.ipynb",
      "provenance": [],
      "collapsed_sections": []
    },
    "kernelspec": {
      "name": "python3",
      "display_name": "Python 3"
    },
    "language_info": {
      "name": "python"
    }
  },
  "cells": [
    {
      "cell_type": "code",
      "source": [
        "import numpy as np\n"
      ],
      "metadata": {
        "id": "-2OtYuvedMfk"
      },
      "execution_count": 15,
      "outputs": []
    },
    {
      "cell_type": "markdown",
      "source": [
        "# OPEN DATA FILE"
      ],
      "metadata": {
        "id": "eZh1s_tHMuPE"
      }
    },
    {
      "cell_type": "code",
      "execution_count": 1,
      "metadata": {
        "colab": {
          "base_uri": "https://localhost:8080/"
        },
        "id": "jpcepwTgMo2d",
        "outputId": "431f49f1-3bb9-42ad-fead-c4ed6f1c5374"
      },
      "outputs": [
        {
          "output_type": "stream",
          "name": "stdout",
          "text": [
            "Drive already mounted at /content/drive; to attempt to forcibly remount, call drive.mount(\"/content/drive\", force_remount=True).\n"
          ]
        }
      ],
      "source": [
        "from google.colab import drive\n",
        "drive.mount('/content/drive')"
      ]
    },
    {
      "cell_type": "markdown",
      "source": [
        "# READ CSV DATA FILE"
      ],
      "metadata": {
        "id": "OGy8ON9siMLh"
      }
    },
    {
      "cell_type": "code",
      "source": [
        "import pandas as pd\n",
        "#BY USING PANDAS LIBRARY TO READ THE NON-HEADER DATAFILE\n",
        "#NON-HEADER MEANS \"FEATURES HAVE NO TITLES\"\n",
        "def read_data(path):\n",
        "  data = pd.read_csv(path , header = None)\n",
        "  return data"
      ],
      "metadata": {
        "id": "AIpk0Xf_PZNy"
      },
      "execution_count": 30,
      "outputs": []
    },
    {
      "cell_type": "code",
      "source": [
        "data = read_data('/content/drive/MyDrive/MAGIC04/magic04.csv')\n",
        "\n",
        "#CONVERT DATA FRAME TO NUMPY ARRAY\n",
        "data = data.to_numpy()\n",
        "data.shape"
      ],
      "metadata": {
        "colab": {
          "base_uri": "https://localhost:8080/"
        },
        "id": "BZZ5dDH5QqE6",
        "outputId": "514e349a-2fe7-41c3-8757-b3209bc20012"
      },
      "execution_count": 31,
      "outputs": [
        {
          "output_type": "execute_result",
          "data": {
            "text/plain": [
              "(19020, 11)"
            ]
          },
          "metadata": {},
          "execution_count": 31
        }
      ]
    },
    {
      "cell_type": "markdown",
      "source": [
        "# 1) Data Balancing\n"
      ],
      "metadata": {
        "id": "xE3URqEDdjZY"
      }
    },
    {
      "cell_type": "code",
      "source": [
        "#ONLY TAKE DATA FOR 'G' CLASS TO BE EQAUL\n",
        "#TO 'H' CLASS\n",
        "#BY TAKING DATA FROM [:6688] FOR 'G' CLASS\n",
        "#[1233:] FOR 'H' CLASS\n",
        "def balance_data():\n",
        "  _g_class_data = data[0:6688]\n",
        "  _h_class_data = data[12333:]\n",
        "  balanced_data = np.concatenate((_g_class_data , _h_class_data) , axis = 0)\n",
        "  return balanced_data"
      ],
      "metadata": {
        "id": "L88mvqahdivE"
      },
      "execution_count": 25,
      "outputs": []
    },
    {
      "cell_type": "code",
      "source": [
        "b_data = balance_data()\n",
        "np.random.shuffle(b_data)\n",
        "b_data.shape"
      ],
      "metadata": {
        "colab": {
          "base_uri": "https://localhost:8080/"
        },
        "id": "alLdA5n4fJf9",
        "outputId": "5feba071-b628-47eb-93ab-e69eaf7db365"
      },
      "execution_count": 38,
      "outputs": [
        {
          "output_type": "execute_result",
          "data": {
            "text/plain": [
              "(13375, 11)"
            ]
          },
          "metadata": {},
          "execution_count": 38
        }
      ]
    },
    {
      "cell_type": "markdown",
      "source": [
        "# 2)Data Split \n"
      ],
      "metadata": {
        "id": "8GDqDY5WgcZq"
      }
    },
    {
      "cell_type": "code",
      "source": [
        "#SPLITING DATA INTO 30% TESTING SET\n",
        "#70% TRAINIG SET\n",
        "testing_set = b_data[0:4013]\n",
        "training_set = b_data[4014:]\n",
        "\n",
        "print(testing_set.shape)\n",
        "print(training_set.shape)"
      ],
      "metadata": {
        "colab": {
          "base_uri": "https://localhost:8080/"
        },
        "id": "igGVf1UIgfR0",
        "outputId": "44a1a3cd-5dc8-42f3-a1d1-4a7433019b10"
      },
      "execution_count": 43,
      "outputs": [
        {
          "output_type": "stream",
          "name": "stdout",
          "text": [
            "(4013, 11)\n",
            "(9361, 11)\n"
          ]
        }
      ]
    },
    {
      "cell_type": "code",
      "source": [
        "#SPLIT TRUE LABELS FOR BOTH \n",
        "#TRAINIG SET ANS TESTING SET\n",
        "testing_data_set = testing_set[:,0:-1]\n",
        "testing_labels = testing_set[:,-1]\n",
        "\n",
        "training_data_set = training_set[:,0:-1]\n",
        "training_labels = training_set[:,-1]\n"
      ],
      "metadata": {
        "colab": {
          "base_uri": "https://localhost:8080/"
        },
        "id": "Qrqar_HYl5WG",
        "outputId": "00df4060-6231-467a-bf77-756df8671366"
      },
      "execution_count": 45,
      "outputs": [
        {
          "output_type": "stream",
          "name": "stdout",
          "text": [
            "(4013,)\n"
          ]
        }
      ]
    },
    {
      "cell_type": "markdown",
      "source": [
        "# 3) a- Classification (KNN)"
      ],
      "metadata": {
        "id": "8k-TRRg5ll9G"
      }
    },
    {
      "cell_type": "code",
      "source": [
        "#APPLY KNN ALGORITHMS ON TRAINIG SET \n",
        "#FOR DIFF. K-VALUES TO GET HYPER PARAMETER TUNNING\n",
        "#AND CHOOSE THE ONE GET THE BEST SCORE\n",
        "def KNN():\n",
        "  \n"
      ],
      "metadata": {
        "id": "8SHmD-MIlikQ"
      },
      "execution_count": null,
      "outputs": []
    }
  ]
}